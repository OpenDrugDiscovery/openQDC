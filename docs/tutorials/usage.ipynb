{
 "cells": [
  {
   "cell_type": "markdown",
   "metadata": {},
   "source": [
    "# Really Hard example\n",
    "\n",
    "## Instantiate and GO!\n",
    "\n",
    "If you don't have the dataset downloaded it will be downloaded automatically and cached. You just instantiate the class and you are ready to go."
   ]
  },
  {
   "cell_type": "code",
   "execution_count": null,
   "metadata": {},
   "outputs": [],
   "source": [
    "from openqdc.datasets.geom import GEOM\n",
    "ds = GEOM()\n"
   ]
  },
  {
   "cell_type": "code",
   "execution_count": null,
   "metadata": {},
   "outputs": [],
   "source": [
    "# Get the item at index 0\n",
    "\n",
    "ds[0]"
   ]
  }
 ],
 "metadata": {
  "language_info": {
   "name": "python"
  }
 },
 "nbformat": 4,
 "nbformat_minor": 2
}
