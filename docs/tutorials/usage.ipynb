{
 "cells": [
  {
   "cell_type": "markdown",
   "metadata": {},
   "source": [
    "# Really Hard example\n",
    "\n",
    "## Instantiate and GO!\n",
    "\n",
    "If you don't have the dataset downloaded it will be downloaded automatically and cached. You just instantiate the class and you are ready to go."
   ]
  },
  {
   "cell_type": "code",
   "execution_count": 1,
   "metadata": {},
   "outputs": [
    {
     "name": "stderr",
     "output_type": "stream",
     "text": [
      "/opt/homebrew/Caskroom/miniconda/base/envs/qdc/lib/python3.11/site-packages/google/auth/_default.py:76: UserWarning: Your application has authenticated using end user credentials from Google Cloud SDK without a quota project. You might receive a \"quota exceeded\" or \"API not enabled\" error. See the following page for troubleshooting: https://cloud.google.com/docs/authentication/adc-troubleshooting/user-creds. \n",
      "  warnings.warn(_CLOUD_SDK_CREDENTIALS_WARNING)\n",
      "\u001b[32m2023-10-31 11:43:09.510\u001b[0m | \u001b[1mINFO    \u001b[0m | \u001b[36mopenqdc.datasets.base\u001b[0m:\u001b[36mread_preprocess\u001b[0m:\u001b[36m236\u001b[0m - \u001b[1mReading preprocessed data\u001b[0m\n",
      "\u001b[32m2023-10-31 11:43:09.511\u001b[0m | \u001b[1mINFO    \u001b[0m | \u001b[36mopenqdc.datasets.base\u001b[0m:\u001b[36mread_preprocess\u001b[0m:\u001b[36m237\u001b[0m - \u001b[1mspice data with the following units:\n",
      "                     Energy: hartree,\n",
      "                     Distance: bohr,\n",
      "                     Forces: hartree/bohr\u001b[0m\n"
     ]
    },
    {
     "name": "stdout",
     "output_type": "stream",
     "text": [
      "Loaded atomic_inputs with shape (33175288, 5), dtype float32\n",
      "Loaded position_idx_range with shape (1110165, 2), dtype int32\n",
      "Loaded energies with shape (1110165, 1), dtype float32\n",
      "Loaded forces with shape (33175288, 3, 1), dtype float32\n",
      "Loaded name_uniques with shape (19155,), dtype <U632\n",
      "Loaded name_inv_indices with shape (1110165,), dtype int64\n",
      "Loaded subset_uniques with shape (6,), dtype <U20\n",
      "Loaded subset_inv_indices with shape (1110165,), dtype int64\n"
     ]
    }
   ],
   "source": [
    "from openqdc.datasets import Spice\n",
    "ds = Spice()\n"
   ]
  },
  {
   "cell_type": "code",
   "execution_count": 2,
   "metadata": {},
   "outputs": [
    {
     "data": {
      "text/plain": [
       "{'positions': array([[ 1.3423489 ,  4.156236  , -3.2724566 ],\n",
       "        [ 0.11595206,  5.013099  , -0.7867248 ],\n",
       "        [ 3.3304987 ,  2.0671773 , -2.706327  ],\n",
       "        [-0.42705083,  3.1751413 ,  1.1297553 ],\n",
       "        [ 2.2186143 , -0.07851297, -0.96923685],\n",
       "        [-0.79288673, -0.46212256,  5.8392773 ],\n",
       "        [ 1.3678371 ,  0.99231935,  1.5586541 ],\n",
       "        [ 0.10456925, -1.268748  ,  3.1158264 ],\n",
       "        [ 1.8262036 , -3.419858  ,  3.5646672 ],\n",
       "        [-0.12426027,  3.5056047 , -4.523958  ],\n",
       "        [ 2.3169334 ,  5.6847157 , -4.164261  ],\n",
       "        [-1.5303158 ,  6.050244  , -1.2296801 ],\n",
       "        [ 1.4974322 ,  6.3657036 ,  0.03400026],\n",
       "        [ 4.834702  ,  2.9906907 , -1.8339012 ],\n",
       "        [ 4.093574  ,  1.2181237 , -4.5069537 ],\n",
       "        [-0.8948031 ,  3.9545724 ,  2.9265711 ],\n",
       "        [-2.2285528 ,  2.2635868 ,  0.6513103 ],\n",
       "        [ 3.508004  , -1.715405  , -0.96671045],\n",
       "        [ 0.59404755, -0.79707295, -2.0085306 ],\n",
       "        [ 0.7965676 ,  0.47622713,  6.8558455 ],\n",
       "        [-1.0235549 , -2.1074667 ,  6.99959   ],\n",
       "        [-2.242772  ,  0.88025045,  5.771556  ],\n",
       "        [ 3.1229448 ,  1.6686317 ,  2.603938  ],\n",
       "        [-1.4589025 , -1.8147511 ,  1.8799771 ],\n",
       "        [ 3.3105593 , -2.9426625 ,  4.8381205 ],\n",
       "        [ 2.6183195 , -4.0669446 ,  1.897128  ],\n",
       "        [ 0.7239914 , -4.7887793 ,  4.302522  ]], dtype=float32),\n",
       " 'atomic_numbers': array([6, 6, 6, 6, 6, 6, 6, 6, 7, 1, 1, 1, 1, 1, 1, 1, 1, 1, 1, 1, 1, 1,\n",
       "        1, 1, 1, 1, 1], dtype=int32),\n",
       " 'charges': array([0, 0, 0, 0, 0, 0, 0, 0, 1, 0, 0, 0, 0, 0, 0, 0, 0, 0, 0, 0, 0, 0,\n",
       "        0, 0, 0, 0, 0], dtype=int32),\n",
       " 'e0': array([[-37.87264507],\n",
       "        [-37.87264507],\n",
       "        [-37.87264507],\n",
       "        [-37.87264507],\n",
       "        [-37.87264507],\n",
       "        [-37.87264507],\n",
       "        [-37.87264507],\n",
       "        [-37.87264507],\n",
       "        [-54.08594143],\n",
       "        [ -0.49876051],\n",
       "        [ -0.49876051],\n",
       "        [ -0.49876051],\n",
       "        [ -0.49876051],\n",
       "        [ -0.49876051],\n",
       "        [ -0.49876051],\n",
       "        [ -0.49876051],\n",
       "        [ -0.49876051],\n",
       "        [ -0.49876051],\n",
       "        [ -0.49876051],\n",
       "        [ -0.49876051],\n",
       "        [ -0.49876051],\n",
       "        [ -0.49876051],\n",
       "        [ -0.49876051],\n",
       "        [ -0.49876051],\n",
       "        [ -0.49876051],\n",
       "        [ -0.49876051],\n",
       "        [ -0.49876051]]),\n",
       " 'energies': array([-370.43396], dtype=float32),\n",
       " 'name': '[H:10][C:1]1([C:2]([C:4]([C:7]([C:5]([C:3]1([H:14])[H:15])([H:18])[H:19])([H:23])[C@:8]([H:24])([C:6]([H:20])([H:21])[H:22])[N+:9]([H:25])([H:26])[H:27])([H:16])[H:17])([H:12])[H:13])[H:11]',\n",
       " 'subset': 'PubChem',\n",
       " 'forces': array([[[-0.00179922],\n",
       "         [ 0.03140596],\n",
       "         [-0.01925333]],\n",
       " \n",
       "        [[-0.05754307],\n",
       "         [-0.05001242],\n",
       "         [ 0.02333626]],\n",
       " \n",
       "        [[ 0.02878791],\n",
       "         [ 0.02572455],\n",
       "         [ 0.02839389]],\n",
       " \n",
       "        [[ 0.04180916],\n",
       "         [ 0.06347901],\n",
       "         [-0.02766182]],\n",
       " \n",
       "        [[-0.0069121 ],\n",
       "         [-0.01444751],\n",
       "         [ 0.0310755 ]],\n",
       " \n",
       "        [[-0.05683722],\n",
       "         [ 0.00752557],\n",
       "         [ 0.01751706]],\n",
       " \n",
       "        [[-0.03830616],\n",
       "         [ 0.02830073],\n",
       "         [-0.017121  ]],\n",
       " \n",
       "        [[ 0.01140344],\n",
       "         [-0.06720252],\n",
       "         [-0.01309772]],\n",
       " \n",
       "        [[-0.03017233],\n",
       "         [-0.00162963],\n",
       "         [ 0.00691937]],\n",
       " \n",
       "        [[ 0.00282399],\n",
       "         [ 0.0067389 ],\n",
       "         [ 0.00818974]],\n",
       " \n",
       "        [[-0.00118477],\n",
       "         [-0.0113823 ],\n",
       "         [ 0.00504383]],\n",
       " \n",
       "        [[ 0.01787472],\n",
       "         [-0.01421945],\n",
       "         [ 0.00149524]],\n",
       " \n",
       "        [[ 0.00911242],\n",
       "         [ 0.00171451],\n",
       "         [ 0.00358609]],\n",
       " \n",
       "        [[-0.02968812],\n",
       "         [-0.01093853],\n",
       "         [-0.01924033]],\n",
       " \n",
       "        [[ 0.01001335],\n",
       "         [-0.00877414],\n",
       "         [-0.01940413]],\n",
       " \n",
       "        [[-0.0020056 ],\n",
       "         [-0.01628383],\n",
       "         [-0.01311036]],\n",
       " \n",
       "        [[ 0.00217005],\n",
       "         [ 0.00345613],\n",
       "         [ 0.00429007]],\n",
       " \n",
       "        [[-0.00303483],\n",
       "         [-0.00882851],\n",
       "         [-0.0083226 ]],\n",
       " \n",
       "        [[ 0.00729162],\n",
       "         [ 0.00029983],\n",
       "         [-0.00148843]],\n",
       " \n",
       "        [[ 0.00562588],\n",
       "         [ 0.00065294],\n",
       "         [ 0.01321654]],\n",
       " \n",
       "        [[ 0.0214653 ],\n",
       "         [ 0.00788545],\n",
       "         [-0.00506454]],\n",
       " \n",
       "        [[ 0.02754005],\n",
       "         [-0.00895344],\n",
       "         [-0.00212213]],\n",
       " \n",
       "        [[ 0.01985255],\n",
       "         [ 0.0078469 ],\n",
       "         [ 0.00831153]],\n",
       " \n",
       "        [[-0.00237015],\n",
       "         [ 0.0116288 ],\n",
       "         [-0.0085525 ]],\n",
       " \n",
       "        [[ 0.02525764],\n",
       "         [ 0.00780627],\n",
       "         [ 0.01998571]],\n",
       " \n",
       "        [[ 0.00287781],\n",
       "         [-0.00348415],\n",
       "         [-0.01047471]],\n",
       " \n",
       "        [[-0.00402551],\n",
       "         [ 0.01167213],\n",
       "         [-0.00644522]]], dtype=float32)}"
      ]
     },
     "execution_count": 2,
     "metadata": {},
     "output_type": "execute_result"
    }
   ],
   "source": [
    "# Get the item at index 0\n",
    "\n",
    "ds[0]"
   ]
  },
  {
   "cell_type": "code",
   "execution_count": 4,
   "metadata": {},
   "outputs": [
    {
     "data": {
      "text/plain": [
       "Atoms(symbols='C8NH18', pbc=False, initial_charges=...)"
      ]
     },
     "execution_count": 4,
     "metadata": {},
     "output_type": "execute_result"
    }
   ],
   "source": [
    "# get the entry as an ase atoms object\n",
    "\n",
    "ds.get_ase_atoms(0)"
   ]
  },
  {
   "cell_type": "markdown",
   "metadata": {},
   "source": [
    "#### Isolated atoms energies\n",
    "\n",
    "The isolated atoms energies are automatically used inside the datasets for the correct level of theory but you can also use them directly by accessing the IsolatedAtomEnergyFactor class."
   ]
  },
  {
   "cell_type": "code",
   "execution_count": 5,
   "metadata": {},
   "outputs": [
    {
     "data": {
      "text/plain": [
       "{('H', -1): -0.4618190740256503,\n",
       " ('H', 0): -0.5002733301377901,\n",
       " ('H', 1): 0.0,\n",
       " ('Li', 1): -7.284546111273075,\n",
       " ('B', -3): -23.577268753399462,\n",
       " ('B', -1): -24.614577395156598,\n",
       " ('B', 0): -24.65435524492553,\n",
       " ('B', 3): -22.018169862974275,\n",
       " ('C', -1): -37.844269871879376,\n",
       " ('C', 0): -37.84628033285479,\n",
       " ('C', 1): -37.42731164237431,\n",
       " ('N', -1): -54.52864356359092,\n",
       " ('N', 0): -54.584488815424095,\n",
       " ('N', 1): -54.0458621835885,\n",
       " ('O', -1): -75.05272792994404,\n",
       " ('O', 0): -75.06062109946738,\n",
       " ('O', 1): -74.54659271939704,\n",
       " ('F', -1): -99.75408410035712,\n",
       " ('F', 0): -99.71553471526475,\n",
       " ('Na', 1): -162.081235395777,\n",
       " ('Mg', 2): -199.22734695613283,\n",
       " ('Si', 4): -285.5564410277949,\n",
       " ('Si', 0): -289.3717359984153,\n",
       " ('Si', -4): -288.02795351148654,\n",
       " ('P', 0): -341.2580911838578,\n",
       " ('P', 1): -340.8765976669208,\n",
       " ('S', -1): -398.16568433994024,\n",
       " ('S', 0): -398.1049932797066,\n",
       " ('S', 1): -397.7199808615457,\n",
       " ('Cl', -2): -459.5066184980746,\n",
       " ('Cl', -1): -460.25223446009306,\n",
       " ('Cl', 0): -460.13624346967765,\n",
       " ('Cl', 2): -458.6740467177361,\n",
       " ('K', 1): -599.7247062673807,\n",
       " ('Ca', 2): -676.8667395990246,\n",
       " ('Br', -1): -2573.824201570383,\n",
       " ('Br', 0): -2573.705283744811,\n",
       " ('I', -1): None,\n",
       " ('I', 0): None}"
      ]
     },
     "execution_count": 5,
     "metadata": {},
     "output_type": "execute_result"
    }
   ],
   "source": [
    "from openqdc.utils.atomization_energies import IsolatedAtomEnergyFactory\n",
    "\n",
    "# Get the hasmap of isolated atom energies for the b3lyp/6-31g* method\n",
    "IsolatedAtomEnergyFactory.get(\"b3lyp/6-31g*\")"
   ]
  },
  {
   "cell_type": "code",
   "execution_count": 6,
   "metadata": {},
   "outputs": [
    {
     "data": {
      "text/plain": [
       "array([[0., 0., 0., ..., 0., 0., 0.],\n",
       "       [0., 0., 0., ..., 0., 0., 0.],\n",
       "       [0., 0., 0., ..., 0., 0., 0.],\n",
       "       ...,\n",
       "       [0., 0., 0., ..., 0., 0., 0.],\n",
       "       [0., 0., 0., ..., 0., 0., 0.],\n",
       "       [0., 0., 0., ..., 0., 0., 0.]])"
      ]
     },
     "execution_count": 6,
     "metadata": {},
     "output_type": "execute_result"
    }
   ],
   "source": [
    "# Get the matrix of atomization energies for the b3lyp/6-31g* method\n",
    "IsolatedAtomEnergyFactory.get_matrix(\"b3lyp/6-31g*\")"
   ]
  },
  {
   "cell_type": "markdown",
   "metadata": {},
   "source": [
    "#### Chemical space from SOAP descriptors"
   ]
  },
  {
   "cell_type": "code",
   "execution_count": 7,
   "metadata": {},
   "outputs": [
    {
     "name": "stderr",
     "output_type": "stream",
     "text": [
      "OMP: Info #276: omp_set_nested routine deprecated, please use omp_set_max_active_levels instead.\n"
     ]
    }
   ],
   "source": [
    "import matplotlib.pyplot as plt \n",
    "import umap.umap_ as umap\n",
    "datum = ds.chemical_space(n_samples=100, progress=False)\n",
    "reducer = umap.UMAP()\n",
    "embedding = reducer.fit_transform(datum[\"soap\"])\n",
    "\n"
   ]
  },
  {
   "cell_type": "code",
   "execution_count": null,
   "metadata": {},
   "outputs": [],
   "source": [
    "plt.scatter(\n",
    "    embedding[:, 0],\n",
    "    embedding[:, 1],\n",
    "    c=[ds[i] for i in datum[\"indices\"]])\n",
    "plt.colorbar()\n"
   ]
  }
 ],
 "metadata": {
  "kernelspec": {
   "display_name": "qdc",
   "language": "python",
   "name": "python3"
  },
  "language_info": {
   "codemirror_mode": {
    "name": "ipython",
    "version": 3
   },
   "file_extension": ".py",
   "mimetype": "text/x-python",
   "name": "python",
   "nbconvert_exporter": "python",
   "pygments_lexer": "ipython3",
   "version": "3.11.6"
  }
 },
 "nbformat": 4,
 "nbformat_minor": 2
}
